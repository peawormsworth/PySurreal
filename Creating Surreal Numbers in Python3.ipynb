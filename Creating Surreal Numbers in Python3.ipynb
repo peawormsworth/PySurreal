{
 "cells": [
  {
   "cell_type": "markdown",
   "metadata": {},
   "source": [
    "# Creating Surreal Numbers in Python3\n",
    "The Surreal Numbers are created and tested below using the python surreal package."
   ]
  },
  {
   "cell_type": "code",
   "execution_count": 1,
   "metadata": {
    "collapsed": true
   },
   "outputs": [],
   "source": [
    "from surreal import creation"
   ]
  },
  {
   "cell_type": "markdown",
   "metadata": {},
   "source": [
    "Create the set of surreal numbers available on a given day"
   ]
  },
  {
   "cell_type": "code",
   "execution_count": 2,
   "metadata": {
    "collapsed": true
   },
   "outputs": [],
   "source": [
    "s = creation(days=7)"
   ]
  },
  {
   "cell_type": "markdown",
   "metadata": {},
   "source": [
    "The set is labelled with the number that it believes are correct representations according to the Surreal construction pattern."
   ]
  },
  {
   "cell_type": "code",
   "execution_count": 3,
   "metadata": {
    "collapsed": false
   },
   "outputs": [
    {
     "name": "stdout",
     "output_type": "stream",
     "text": [
      "0,1,2,3,4,5,-1/2,3/2,19/8,-1/4,29/32,-1/16,-1,7/2,21/8,9/2,21/16,-3/16,25/32,-25/32,-5/4,7/4,-2,5/16,-21/32,7/16,-17/32,3/16,9/16,-13/32,11/16,1/2,13/16,-5/32,-5/16,15/16,-1/32,-7/2,-31/32,-9/32,-7/8,23/16,13/4,-15/8,17/8,-3/4,25/16,11/32,-5/8,27/16,15/32,29/16,-29/32,5/2,9/4,-3/8,31/16,13/8,15/8,23/32,-21/16,17/16,-13/8,5/4,-7/4,31/32,11/4,-11/8,-23/16,-7/16,-11/4,-27/32,19/16,-21/8,-29/16,1/4,-23/32,13/32,-3,3/8,-19/32,11/8,27/32,9/8,-15/32,-1/8,-9/4,6,5/8,1/16,3/32,3/4,-11/32,-5/2,19/32,-27/16,7/8,-3/32,-19/16,1/32,-15/16,-3/2,5/32,-13/16,15/4,-5,1/8,9/32,-17/16,-11/16,-4,7/32,-23/8,-7/32,-13/4,-9/16,23/8,-19/8,17/32,-31/16,21/32,-6,-9/8,-9/2,-15/4,-17/8,-25/16\n",
      "\n",
      "Total: 127\n"
     ]
    }
   ],
   "source": [
    "print(','.join(str(i) for i in s.keys()))\n",
    "print('\\nTotal:',len(s))"
   ]
  },
  {
   "cell_type": "markdown",
   "metadata": {},
   "source": [
    "### Validate surreal labels\n",
    "This a set of linked memory locations that are labelled with numberic names. These numbers have not been verified.\n",
    "Surreal numbers are created without knowledge of number.\n",
    "The surreal label takes on its numeric meaning based on how they operate together.\n",
    "\n",
    "Addition, subtraction, multiplication and negation are applied below on the set to verify that the suspected number construction behaves as it is labelled."
   ]
  },
  {
   "cell_type": "markdown",
   "metadata": {},
   "source": [
    "### Comparative test\n",
    "Surreal numbers have order. \n",
    "Test that the order of labels match expectation."
   ]
  },
  {
   "cell_type": "code",
   "execution_count": 4,
   "metadata": {
    "collapsed": false
   },
   "outputs": [
    {
     "name": "stdout",
     "output_type": "stream",
     "text": [
      "\n",
      "Compare 127 labels with each other in 6 ways, or 96774 comparisons.\n",
      "\n",
      "done.\n",
      "\n",
      "By comparison, the surreal numbers operate according to their given labels.\n"
     ]
    }
   ],
   "source": [
    "verbose = 1\n",
    "print('\\nCompare {} labels with each other in 6 ways, or {} comparisons.'.format(len(s),6*len(s)**2))\n",
    "for i in s:\n",
    "    for j in s:\n",
    "        assert (i< j) is (s[i]< s[j]), '  calc: {}'.format(s[i]< s[j])\n",
    "        assert (i<=j) is (s[i]<=s[j]), '  calc: {}'.format(s[i]<=s[j])\n",
    "        assert (i==j) is (s[i]==s[j]), '  calc: {}'.format(s[i]==s[j])\n",
    "        assert (i>=j) is (s[i]>=s[j]), '  calc: {}'.format(s[i]>=s[j])\n",
    "        assert (i> j) is (s[i]> s[j]), '  calc: {}'.format(s[i]> s[j])\n",
    "print('\\ndone.\\n\\nBy comparison, the surreal numbers operate according to their given labels.')\n",
    "\n"
   ]
  },
  {
   "cell_type": "markdown",
   "metadata": {},
   "source": [
    "### Negation test\n",
    "Surreal numbers can be negated"
   ]
  },
  {
   "cell_type": "code",
   "execution_count": 5,
   "metadata": {
    "collapsed": false
   },
   "outputs": [
    {
     "name": "stdout",
     "output_type": "stream",
     "text": [
      "\n",
      "Compare 127 negated numbers with their negated label.\n",
      "\n",
      "done.\n",
      "\n",
      "By negation, the surreal numbers operate according to their given labels.\n"
     ]
    }
   ],
   "source": [
    "verbose = 1\n",
    "print('\\nCompare {} negated numbers with their negated label.'.format(len(s)))\n",
    "for i in s:\n",
    "    assert -s[i] == s[-i], '  calc: {}'.format(-s[i]==s[-i])\n",
    "print('\\ndone.\\n\\nBy negation, the surreal numbers operate according to their given labels.')"
   ]
  },
  {
   "cell_type": "markdown",
   "metadata": {},
   "source": [
    "### Addition test\n",
    "Surreal numbers can be added"
   ]
  },
  {
   "cell_type": "code",
   "execution_count": 6,
   "metadata": {
    "collapsed": false
   },
   "outputs": [
    {
     "name": "stdout",
     "output_type": "stream",
     "text": [
      "\n",
      "Sum 63 labels with each other where the solution is also a label.\n",
      "\n",
      "done.\n",
      "\n",
      "By addition, the surreal numbers operate according to their given labels.\n"
     ]
    }
   ],
   "source": [
    "s = creation(days=6)\n",
    "verbose = 1\n",
    "print('\\nSum {} labels with each other where the solution is also a label.'.format(len(s)))\n",
    "for i in s:\n",
    "    for j in s:\n",
    "        if i+j in s:\n",
    "            assert s[i+j] == s[i]+s[j], 'incorrect calculation: {} + {} = {}'.format(s[i],s[j],s[i]+s[j])\n",
    "print('\\ndone.\\n\\nBy addition, the surreal numbers operate according to their given labels.')"
   ]
  },
  {
   "cell_type": "markdown",
   "metadata": {},
   "source": [
    "### Subtraction test\n",
    "Surreal subtraction is a combination of negation and addition."
   ]
  },
  {
   "cell_type": "code",
   "execution_count": 7,
   "metadata": {
    "collapsed": false
   },
   "outputs": [
    {
     "name": "stdout",
     "output_type": "stream",
     "text": [
      "\n",
      "Subtract 63 labels from each other where the solution is also a label.\n",
      "\n",
      "done.\n",
      "\n",
      "By subtraction, the surreal numbers operate according to their given labels.\n"
     ]
    }
   ],
   "source": [
    "s = creation(days=6)\n",
    "verbose = 1\n",
    "print('\\nSubtract {} labels from each other where the solution is also a label.'.format(len(s)))\n",
    "for i in s:\n",
    "    for j in s:\n",
    "        if i-j in s:\n",
    "            assert s[i-j] == s[i]-s[j], 'incorrect calculation: {} - {} = {}'.format(s[i],s[j],s[i]-s[j])\n",
    "print('\\ndone.\\n\\nBy subtraction, the surreal numbers operate according to their given labels.')"
   ]
  },
  {
   "cell_type": "markdown",
   "metadata": {},
   "source": [
    "### Multiplication test\n",
    "Surreal multiplication is a recursive operation also involving addition and subtraction."
   ]
  },
  {
   "cell_type": "code",
   "execution_count": 8,
   "metadata": {
    "collapsed": false
   },
   "outputs": [
    {
     "name": "stdout",
     "output_type": "stream",
     "text": [
      "\n",
      "Multiply 0 labels from each other where the solution is also a label.\n",
      "\n",
      "done.\n",
      "\n",
      "By subtraction, the surreal numbers operate according to their given labels.\n"
     ]
    }
   ],
   "source": [
    "from random import choice\n",
    "s = creation(days=6)\n",
    "verbose = 1\n",
    "tests = 0\n",
    "print('\\nMultiply {} labels from each other where the solution is also a label.'.format(tests))\n",
    "while tests:\n",
    "    i = choice(list(s.keys()))\n",
    "    j = choice(list(s.keys()))\n",
    "    if i*j in s:\n",
    "        print('\\nmultiply {} * {}'.format(i,j))\n",
    "        assert s[i*j] == s[i]*s[j], 'incorrect calculation: {} * {} = {}'.format(s[i],s[j],s[i]*s[j])\n",
    "        print('Succes\\n')\n",
    "        tests -= tests\n",
    "print('\\ndone.\\n\\nBy subtraction, the surreal numbers operate according to their given labels.')"
   ]
  },
  {
   "cell_type": "markdown",
   "metadata": {},
   "source": [
    "NOTE: The above test has been set to 0 tests, because some numbers are to slow to resolve here.\n",
    "Instead, I have include specific examples that do not take long to complete."
   ]
  },
  {
   "cell_type": "code",
   "execution_count": 9,
   "metadata": {
    "collapsed": false
   },
   "outputs": [
    {
     "name": "stdout",
     "output_type": "stream",
     "text": [
      "\n",
      "check 1*1=1\n",
      "\n",
      "check 1*-0.5=-0.5\n",
      "\n",
      "check 1*-1=-1\n",
      "\n",
      "check 0.5*0.5=0.25\n",
      "\n",
      "check 1.5*-1=-1.5\n",
      "\n",
      "check 1.5*0.5=0.75\n",
      "\n",
      "check -0.25*0.5=-0.125\n",
      "\n",
      "check 2*-0.25=-0.5\n",
      "\n",
      "check 0.125*0.5=0.0625\n",
      "\n",
      "done.\n",
      "\n",
      "By multiplication, the surreal numbers operate according to their given labels.\n"
     ]
    }
   ],
   "source": [
    "samples = [\n",
    "    [1,1],\n",
    "    [1,-1/2],\n",
    "    [1,-1],\n",
    "    [1/2,1/2],\n",
    "    [3/2,-1],\n",
    "    [3/2,1/2],\n",
    "    [-1/4,1/2],\n",
    "    [2,-1/4],\n",
    "    [1/8,1/2]\n",
    "]\n",
    "for a,b in samples:\n",
    "    print('\\ncheck {}*{}={}'.format(a,b,a*b))\n",
    "    assert s[a]*s[b] == s[a*b], 'incorrect calculation: {} * {} = {}'.format(a,b,s[a*b])\n",
    "print('\\ndone.\\n\\nBy multiplication, the surreal numbers operate according to their given labels.')"
   ]
  },
  {
   "cell_type": "markdown",
   "metadata": {},
   "source": [
    "### Inversion test\n",
    "Careful, inversion has extreme recursion..."
   ]
  },
  {
   "cell_type": "code",
   "execution_count": 10,
   "metadata": {
    "collapsed": true
   },
   "outputs": [],
   "source": [
    "# TBD"
   ]
  },
  {
   "cell_type": "markdown",
   "metadata": {},
   "source": [
    "### Division test\n",
    "Surreal division involves inversion and multiplication.\n",
    "It is the combination of two highly recursive operations.\n",
    "\n",
    "Warning: the result is infinite if the divisor is not even. Which is all of the fractions in the dyatic stage."
   ]
  },
  {
   "cell_type": "code",
   "execution_count": 11,
   "metadata": {
    "collapsed": true
   },
   "outputs": [],
   "source": [
    "# TBD"
   ]
  },
  {
   "cell_type": "markdown",
   "metadata": {},
   "source": [
    "### Other features\n",
    "The surreal python code provides a complete string output for each number that always leads back to 0's {|}"
   ]
  },
  {
   "cell_type": "code",
   "execution_count": 12,
   "metadata": {
    "collapsed": false
   },
   "outputs": [
    {
     "name": "stdout",
     "output_type": "stream",
     "text": [
      "\n",
      " label   string code\n",
      "\n",
      "     0   {|}\n",
      "     1   {{|}|}\n",
      "     2   {{{|}|}|}\n",
      "     3   {{{{|}|}|}|}\n",
      "     4   {{{{{|}|}|}|}|}\n",
      "     5   {{{{{{|}|}|}|}|}|}\n",
      "  -1/2   {{|{|}}|{|}}\n",
      "   3/2   {{{|}|}|{{{|}|}|}}\n",
      " -3/16   {{{{|{|}}|{|}}|{|}}|{{{{|{|}}|{|}}|{|}}|{|}}}\n",
      " -7/16   {{{|{|}}|{|}}|{{{|{|}}|{|}}|{{{|{|}}|{|}}|{|}}}}\n",
      "  -1/4   {{{|{|}}|{|}}|{|}}\n",
      "   1/2   {{|}|{{|}|}}\n",
      "  -9/8   {{{{|{|{|}}}|{|{|}}}|{|{|}}}|{|{|}}}\n",
      " -5/16   {{{{|{|}}|{|}}|{{{|{|}}|{|}}|{|}}}|{{{|{|}}|{|}}|{|}}}\n",
      "   7/2   {{{{{|}|}|}|}|{{{{{|}|}|}|}|}}\n",
      "   5/2   {{{{|}|}|}|{{{{|}|}|}|}}\n",
      "  1/16   {{|}|{{|}|{{|}|{{|}|{{|}|}}}}}\n",
      "  -7/4   {{|{|{|}}}|{{|{|{|}}}|{|{|}}}}\n",
      "  -1/8   {{{{|{|}}|{|}}|{|}}|{|}}\n",
      "   3/4   {{{|}|{{|}|}}|{{|}|}}\n",
      "  3/16   {{{|}|{{|}|{{|}|{{|}|}}}}|{{|}|{{|}|{{|}|}}}}\n",
      "  -5/2   {{|{|{|{|}}}}|{|{|{|}}}}\n",
      "  11/4   {{{{{|}|}|}|{{{{|}|}|}|}}|{{{{|}|}|}|}}\n",
      "   7/4   {{{{|}|}|{{{|}|}|}}|{{{|}|}|}}\n",
      "  5/16   {{{|}|{{|}|{{|}|}}}|{{{|}|{{|}|{{|}|}}}|{{|}|{{|}|}}}}\n",
      "   3/8   {{{|}|{{|}|{{|}|}}}|{{|}|{{|}|}}}\n",
      "  7/16   {{{{|}|{{|}|{{|}|}}}|{{|}|{{|}|}}}|{{|}|{{|}|}}}\n",
      "   9/8   {{{|}|}|{{{|}|}|{{{|}|}|{{{|}|}|}}}}\n",
      "   5/4   {{{|}|}|{{{|}|}|{{{|}|}|}}}\n",
      "   1/4   {{|}|{{|}|{{|}|}}}\n",
      "  9/16   {{{|}|{{|}|}}|{{{|}|{{|}|}}|{{{|}|{{|}|}}|{{|}|}}}}\n",
      "   5/8   {{{|}|{{|}|}}|{{{|}|{{|}|}}|{{|}|}}}\n",
      "-13/16   {{{|{|}}|{{|{|}}|{{|{|}}|{|}}}}|{{|{|}}|{{|{|}}|{|}}}}\n",
      " 11/16   {{{{|}|{{|}|}}|{{{|}|{{|}|}}|{{|}|}}}|{{{|}|{{|}|}}|{{|}|}}}\n",
      "   1/8   {{|}|{{|}|{{|}|{{|}|}}}}\n",
      " 13/16   {{{{|}|{{|}|}}|{{|}|}}|{{{{|}|{{|}|}}|{{|}|}}|{{|}|}}}\n",
      "    -2   {|{|{|}}}\n",
      "-15/16   {{|{|}}|{{|{|}}|{{|{|}}|{{|{|}}|{|}}}}}\n",
      "   7/8   {{{{|}|{{|}|}}|{{|}|}}|{{|}|}}\n",
      " 15/16   {{{{{|}|{{|}|}}|{{|}|}}|{{|}|}}|{{|}|}}\n",
      "  -5/4   {{{|{|{|}}}|{|{|}}}|{|{|}}}\n",
      "  -5/8   {{{|{|}}|{{|{|}}|{|}}}|{{|{|}}|{|}}}\n",
      "  11/8   {{{{|}|}|{{{|}|}|{{{|}|}|}}}|{{{|}|}|{{{|}|}|}}}\n",
      "  -7/8   {{|{|}}|{{|{|}}|{{|{|}}|{|}}}}\n",
      " -1/16   {{{{{|{|}}|{|}}|{|}}|{|}}|{|}}\n",
      "    -5   {|{|{|{|{|{|}}}}}}\n",
      "   9/4   {{{{|}|}|}|{{{{|}|}|}|{{{{|}|}|}|}}}\n",
      " -11/8   {{{|{|{|}}}|{|{|}}}|{{{|{|{|}}}|{|{|}}}|{|{|}}}}\n",
      "-11/16   {{{|{|}}|{{|{|}}|{|}}}|{{{|{|}}|{{|{|}}|{|}}}|{{|{|}}|{|}}}}\n",
      "    -4   {|{|{|{|{|}}}}}\n",
      "  13/8   {{{{|}|}|{{{|}|}|}}|{{{{|}|}|{{{|}|}|}}|{{{|}|}|}}}\n",
      "  -9/4   {{{|{|{|{|}}}}|{|{|{|}}}}|{|{|{|}}}}\n",
      "    -3   {|{|{|{|}}}}\n",
      " -9/16   {{{{|{|}}|{{|{|}}|{|}}}|{{|{|}}|{|}}}|{{|{|}}|{|}}}\n",
      " -11/4   {{|{|{|{|}}}}|{{|{|{|{|}}}}|{|{|{|}}}}}\n",
      "  -3/2   {{|{|{|}}}|{|{|}}}\n",
      "  -3/4   {{|{|}}|{{|{|}}|{|}}}\n",
      "  15/8   {{{{{|}|}|{{{|}|}|}}|{{{|}|}|}}|{{{|}|}|}}\n",
      " -13/8   {{{|{|{|}}}|{{|{|{|}}}|{|{|}}}}|{{|{|{|}}}|{|{|}}}}\n",
      "  -3/8   {{{|{|}}|{|}}|{{{|{|}}|{|}}|{|}}}\n",
      "  -7/2   {{|{|{|{|{|}}}}}|{|{|{|{|}}}}}\n",
      "    -1   {|{|}}\n",
      " -15/8   {{|{|{|}}}|{{|{|{|}}}|{{|{|{|}}}|{|{|}}}}}\n"
     ]
    }
   ],
   "source": [
    "print('\\n label   string code\\n')\n",
    "for label in s:\n",
    "        print('{:>6}   {}'.format(str(label),s[label]))"
   ]
  },
  {
   "cell_type": "markdown",
   "metadata": {},
   "source": [
    "and with little work the numbers can be converted into common notation"
   ]
  },
  {
   "cell_type": "code",
   "execution_count": 14,
   "metadata": {
    "collapsed": false
   },
   "outputs": [
    {
     "name": "stdout",
     "output_type": "stream",
     "text": [
      "     '0' : '{|}'          ,\n",
      "    '-1' : '{|0}'         ,\n",
      "     '1' : '{0|}'         ,\n",
      "    '-2' : '{|-1}'        ,\n",
      "  '-1/2' : '{-1|0}'       ,\n",
      "   '1/2' : '{0|1}'        ,\n",
      "     '2' : '{1|}'         ,\n",
      "    '-3' : '{|-2}'        ,\n",
      "  '-3/2' : '{-2|-1}'      ,\n",
      "  '-3/4' : '{-1|-1/2}'    ,\n",
      "  '-1/4' : '{-1/2|0}'     ,\n",
      "   '1/4' : '{0|1/2}'      ,\n",
      "   '3/4' : '{1/2|1}'      ,\n",
      "   '3/2' : '{1|2}'        ,\n",
      "     '3' : '{2|}'         ,\n",
      "    '-4' : '{|-3}'        ,\n",
      "  '-5/2' : '{-3|-2}'      ,\n",
      "  '-7/4' : '{-2|-3/2}'    ,\n",
      "  '-5/4' : '{-3/2|-1}'    ,\n",
      "  '-7/8' : '{-1|-3/4}'    ,\n",
      "  '-5/8' : '{-3/4|-1/2}'  ,\n",
      "  '-3/8' : '{-1/2|-1/4}'  ,\n",
      "  '-1/8' : '{-1/4|0}'     ,\n",
      "   '1/8' : '{0|1/4}'      ,\n",
      "   '3/8' : '{1/4|1/2}'    ,\n",
      "   '5/8' : '{1/2|3/4}'    ,\n",
      "   '7/8' : '{3/4|1}'      ,\n",
      "   '5/4' : '{1|3/2}'      ,\n",
      "   '7/4' : '{3/2|2}'      ,\n",
      "   '5/2' : '{2|3}'        ,\n",
      "     '4' : '{3|}'         ,\n",
      "    '-5' : '{|-4}'        ,\n",
      "  '-7/2' : '{-4|-3}'      ,\n",
      " '-11/4' : '{-3|-5/2}'    ,\n",
      "  '-9/4' : '{-5/2|-2}'    ,\n",
      " '-15/8' : '{-2|-7/4}'    ,\n",
      " '-13/8' : '{-7/4|-3/2}'  ,\n",
      " '-11/8' : '{-3/2|-5/4}'  ,\n",
      "  '-9/8' : '{-5/4|-1}'    ,\n",
      "'-15/16' : '{-1|-7/8}'    ,\n",
      "'-13/16' : '{-7/8|-3/4}'  ,\n",
      "'-11/16' : '{-3/4|-5/8}'  ,\n",
      " '-9/16' : '{-5/8|-1/2}'  ,\n",
      " '-7/16' : '{-1/2|-3/8}'  ,\n",
      " '-5/16' : '{-3/8|-1/4}'  ,\n",
      " '-3/16' : '{-1/4|-1/8}'  ,\n",
      " '-1/16' : '{-1/8|0}'     ,\n",
      "  '1/16' : '{0|1/8}'      ,\n",
      "  '3/16' : '{1/8|1/4}'    ,\n",
      "  '5/16' : '{1/4|3/8}'    ,\n",
      "  '7/16' : '{3/8|1/2}'    ,\n",
      "  '9/16' : '{1/2|5/8}'    ,\n",
      " '11/16' : '{5/8|3/4}'    ,\n",
      " '13/16' : '{3/4|7/8}'    ,\n",
      " '15/16' : '{7/8|1}'      ,\n",
      "   '9/8' : '{1|5/4}'      ,\n",
      "  '11/8' : '{5/4|3/2}'    ,\n",
      "  '13/8' : '{3/2|7/4}'    ,\n",
      "  '15/8' : '{7/4|2}'      ,\n",
      "   '9/4' : '{2|5/2}'      ,\n",
      "  '11/4' : '{5/2|3}'      ,\n",
      "   '7/2' : '{3|4}'        ,\n",
      "     '5' : '{4|}'         ,\n",
      "    '-6' : '{|-5}'        ,\n",
      "  '-9/2' : '{-5|-4}'      ,\n",
      " '-15/4' : '{-4|-7/2}'    ,\n",
      " '-13/4' : '{-7/2|-3}'    ,\n",
      " '-23/8' : '{-3|-11/4}'   ,\n",
      " '-21/8' : '{-11/4|-5/2}' ,\n",
      " '-19/8' : '{-5/2|-9/4}'  ,\n",
      " '-17/8' : '{-9/4|-2}'    ,\n",
      "'-31/16' : '{-2|-15/8}'   ,\n",
      "'-29/16' : '{-15/8|-7/4}' ,\n",
      "'-27/16' : '{-7/4|-13/8}' ,\n",
      "'-25/16' : '{-13/8|-3/2}' ,\n",
      "'-23/16' : '{-3/2|-11/8}' ,\n",
      "'-21/16' : '{-11/8|-5/4}' ,\n",
      "'-19/16' : '{-5/4|-9/8}'  ,\n",
      "'-17/16' : '{-9/8|-1}'    ,\n",
      "'-31/32' : '{-1|-15/16}'  ,\n",
      "'-29/32' : '{-15/16|-7/8}',\n",
      "'-27/32' : '{-7/8|-13/16}',\n",
      "'-25/32' : '{-13/16|-3/4}',\n",
      "'-23/32' : '{-3/4|-11/16}',\n",
      "'-21/32' : '{-11/16|-5/8}',\n",
      "'-19/32' : '{-5/8|-9/16}' ,\n",
      "'-17/32' : '{-9/16|-1/2}' ,\n",
      "'-15/32' : '{-1/2|-7/16}' ,\n",
      "'-13/32' : '{-7/16|-3/8}' ,\n",
      "'-11/32' : '{-3/8|-5/16}' ,\n",
      " '-9/32' : '{-5/16|-1/4}' ,\n",
      " '-7/32' : '{-1/4|-3/16}' ,\n",
      " '-5/32' : '{-3/16|-1/8}' ,\n",
      " '-3/32' : '{-1/8|-1/16}' ,\n",
      " '-1/32' : '{-1/16|0}'    ,\n",
      "  '1/32' : '{0|1/16}'     ,\n",
      "  '3/32' : '{1/16|1/8}'   ,\n",
      "  '5/32' : '{1/8|3/16}'   ,\n",
      "  '7/32' : '{3/16|1/4}'   ,\n",
      "  '9/32' : '{1/4|5/16}'   ,\n",
      " '11/32' : '{5/16|3/8}'   ,\n",
      " '13/32' : '{3/8|7/16}'   ,\n",
      " '15/32' : '{7/16|1/2}'   ,\n",
      " '17/32' : '{1/2|9/16}'   ,\n",
      " '19/32' : '{9/16|5/8}'   ,\n",
      " '21/32' : '{5/8|11/16}'  ,\n",
      " '23/32' : '{11/16|3/4}'  ,\n",
      " '25/32' : '{3/4|13/16}'  ,\n",
      " '27/32' : '{13/16|7/8}'  ,\n",
      " '29/32' : '{7/8|15/16}'  ,\n",
      " '31/32' : '{15/16|1}'    ,\n",
      " '17/16' : '{1|9/8}'      ,\n",
      " '19/16' : '{9/8|5/4}'    ,\n",
      " '21/16' : '{5/4|11/8}'   ,\n",
      " '23/16' : '{11/8|3/2}'   ,\n",
      " '25/16' : '{3/2|13/8}'   ,\n",
      " '27/16' : '{13/8|7/4}'   ,\n",
      " '29/16' : '{7/4|15/8}'   ,\n",
      " '31/16' : '{15/8|2}'     ,\n",
      "  '17/8' : '{2|9/4}'      ,\n",
      "  '19/8' : '{9/4|5/2}'    ,\n",
      "  '21/8' : '{5/2|11/4}'   ,\n",
      "  '23/8' : '{11/4|3}'     ,\n",
      "  '13/4' : '{3|7/2}'      ,\n",
      "  '15/4' : '{7/2|4}'      ,\n",
      "   '9/2' : '{4|5}'        ,\n",
      "     '6' : '{5|}'         ,\n"
     ]
    }
   ],
   "source": [
    "from surreal import canal\n",
    "days = 7\n",
    "birth = canal()\n",
    "numbers = []\n",
    "order   = []\n",
    "s = creation(days=days)\n",
    "\n",
    "for i in range (len(s)):\n",
    "    label = next(birth)\n",
    "    order.append(str(s[label]))\n",
    "    numbers.append(str(label))\n",
    "\n",
    "for i in range(len(order)):\n",
    "    for j in range(i+1,len(order)):\n",
    "        order[j] = order[j].replace(str(order[i]),numbers[i])\n",
    "        \n",
    "for number in range(len(numbers)):\n",
    "    #print('{:>7} : {}'.format(numbers[number], order[number]))      \n",
    "    print('{:>8} : {:<15},'.format(\"'\"+str(numbers[number])+\"'\", \"'\"+order[number]+\"'\"))  \n",
    "    #rint(\"'{}': '{}'\".format(numbers[number], order[number]))            "
   ]
  },
  {
   "cell_type": "markdown",
   "metadata": {},
   "source": [
    "### Raw format\n",
    "surreal numbers do not have a label.\n",
    "The labels from surreal.creation() do not know their own number assignment.\n",
    "But a Surreal number can be matched against a dictionary list of number to return the key of an equivelent match.\n",
    "\n",
    "Below is a list of Surreal numbers where the label name is determined by comparison with a given set of surreal numbers with given labels."
   ]
  },
  {
   "cell_type": "code",
   "execution_count": 16,
   "metadata": {
    "collapsed": false
   },
   "outputs": [
    {
     "name": "stdout",
     "output_type": "stream",
     "text": [
      "found label -275/256 for {{{{{{{|{|{|}}}|{|{|}}}|{|{|}}}|{|{|}}}|{{{{{|{|{|}}}|{|{|}}}|{|{|}}}|{|{|}}}|{|{|}}}}|{{{{{|{|{|}}}|{|{|}}}|{|{|}}}|{|{|}}}|{|{|}}}}|{{{{{{{|{|{|}}}|{|{|}}}|{|{|}}}|{|{|}}}|{{{{{|{|{|}}}|{|{|}}}|{|{|}}}|{|{|}}}|{|{|}}}}|{{{{{|{|{|}}}|{|{|}}}|{|{|}}}|{|{|}}}|{|{|}}}}|{{{{{|{|{|}}}|{|{|}}}|{|{|}}}|{|{|}}}|{|{|}}}}}\n",
      "found label -49/32 for {{{{{|{|{|}}}|{{|{|{|}}}|{|{|}}}}|{{|{|{|}}}|{|{|}}}}|{{|{|{|}}}|{|{|}}}}|{{|{|{|}}}|{|{|}}}}\n",
      "found label -9/2  for {{|{|{|{|{|{|}}}}}}|{|{|{|{|{|}}}}}}\n",
      "found label -383/256 for {{{|{|{|}}}|{|{|}}}|{{{|{|{|}}}|{|{|}}}|{{{|{|{|}}}|{|{|}}}|{{{|{|{|}}}|{|{|}}}|{{{|{|{|}}}|{|{|}}}|{{{|{|{|}}}|{|{|}}}|{{{|{|{|}}}|{|{|}}}|{|{|}}}}}}}}}\n",
      "found label -241/128 for {{{{{|{|{|}}}|{{|{|{|}}}|{{|{|{|}}}|{{|{|{|}}}|{|{|}}}}}}|{{|{|{|}}}|{{|{|{|}}}|{{|{|{|}}}|{|{|}}}}}}|{{|{|{|}}}|{{|{|{|}}}|{{|{|{|}}}|{|{|}}}}}}|{{|{|{|}}}|{{|{|{|}}}|{{|{|{|}}}|{|{|}}}}}}\n",
      "found label -165/64 for {{{{{|{|{|{|}}}}|{{|{|{|{|}}}}|{|{|{|}}}}}|{{|{|{|{|}}}}|{|{|{|}}}}}|{{{{|{|{|{|}}}}|{{|{|{|{|}}}}|{|{|{|}}}}}|{{|{|{|{|}}}}|{|{|{|}}}}}|{{|{|{|{|}}}}|{|{|{|}}}}}}|{{{{|{|{|{|}}}}|{{|{|{|{|}}}}|{|{|{|}}}}}|{{|{|{|{|}}}}|{|{|{|}}}}}|{{|{|{|{|}}}}|{|{|{|}}}}}}\n",
      "found label 291/128 for {{{{{{|}|}|}|{{{{|}|}|}|{{{{|}|}|}|}}}|{{{{{|}|}|}|{{{{|}|}|}|{{{{|}|}|}|}}}|{{{{{|}|}|}|{{{{|}|}|}|{{{{|}|}|}|}}}|{{{{{|}|}|}|{{{{|}|}|}|{{{{|}|}|}|}}}|{{{{|}|}|}|{{{{|}|}|}|}}}}}}|{{{{{|}|}|}|{{{{|}|}|}|{{{{|}|}|}|}}}|{{{{{|}|}|}|{{{{|}|}|}|{{{{|}|}|}|}}}|{{{{{|}|}|}|{{{{|}|}|}|{{{{|}|}|}|}}}|{{{{|}|}|}|{{{{|}|}|}|}}}}}}\n",
      "found label -235/256 for {{{{|{|}}|{{|{|}}|{{|{|}}|{{|{|}}|{|}}}}}|{{{|{|}}|{{|{|}}|{{|{|}}|{{|{|}}|{|}}}}}|{{|{|}}|{{|{|}}|{{|{|}}|{|}}}}}}|{{{{|{|}}|{{|{|}}|{{|{|}}|{{|{|}}|{|}}}}}|{{{|{|}}|{{|{|}}|{{|{|}}|{{|{|}}|{|}}}}}|{{|{|}}|{{|{|}}|{{|{|}}|{|}}}}}}|{{{|{|}}|{{|{|}}|{{|{|}}|{{|{|}}|{|}}}}}|{{|{|}}|{{|{|}}|{{|{|}}|{|}}}}}}}\n",
      "found label -83/256 for {{{{{{|{|}}|{|}}|{{{|{|}}|{|}}|{|}}}|{{{{|{|}}|{|}}|{{{|{|}}|{|}}|{|}}}|{{{|{|}}|{|}}|{|}}}}|{{{{|{|}}|{|}}|{{{|{|}}|{|}}|{|}}}|{{{|{|}}|{|}}|{|}}}}|{{{{{{|{|}}|{|}}|{{{|{|}}|{|}}|{|}}}|{{{{|{|}}|{|}}|{{{|{|}}|{|}}|{|}}}|{{{|{|}}|{|}}|{|}}}}|{{{{|{|}}|{|}}|{{{|{|}}|{|}}|{|}}}|{{{|{|}}|{|}}|{|}}}}|{{{{|{|}}|{|}}|{{{|{|}}|{|}}|{|}}}|{{{|{|}}|{|}}|{|}}}}}\n",
      "found label 75/16 for {{{{{{{{|}|}|}|}|}|{{{{{{|}|}|}|}|}|}}|{{{{{{{|}|}|}|}|}|{{{{{{|}|}|}|}|}|}}|{{{{{{|}|}|}|}|}|}}}|{{{{{{{|}|}|}|}|}|{{{{{{|}|}|}|}|}|}}|{{{{{{|}|}|}|}|}|}}}\n",
      "found label 149/128 for {{{{{|}|}|{{{|}|}|{{{|}|}|{{{|}|}|}}}}|{{{{|}|}|{{{|}|}|{{{|}|}|{{{|}|}|}}}}|{{{|}|}|{{{|}|}|{{{|}|}|}}}}}|{{{{{|}|}|{{{|}|}|{{{|}|}|{{{|}|}|}}}}|{{{{|}|}|{{{|}|}|{{{|}|}|{{{|}|}|}}}}|{{{|}|}|{{{|}|}|{{{|}|}|}}}}}|{{{{|}|}|{{{|}|}|{{{|}|}|{{{|}|}|}}}}|{{{|}|}|{{{|}|}|{{{|}|}|}}}}}}\n",
      "found label 177/512 for {{{{{|}|{{|}|{{|}|}}}|{{{|}|{{|}|{{|}|}}}|{{|}|{{|}|}}}}|{{{|}|{{|}|{{|}|}}}|{{|}|{{|}|}}}}|{{{{{|}|{{|}|{{|}|}}}|{{{|}|{{|}|{{|}|}}}|{{|}|{{|}|}}}}|{{{|}|{{|}|{{|}|}}}|{{|}|{{|}|}}}}|{{{{{|}|{{|}|{{|}|}}}|{{{|}|{{|}|{{|}|}}}|{{|}|{{|}|}}}}|{{{|}|{{|}|{{|}|}}}|{{|}|{{|}|}}}}|{{{{{|}|{{|}|{{|}|}}}|{{{|}|{{|}|{{|}|}}}|{{|}|{{|}|}}}}|{{{|}|{{|}|{{|}|}}}|{{|}|{{|}|}}}}|{{{|}|{{|}|{{|}|}}}|{{|}|{{|}|}}}}}}}\n",
      "found label -443/256 for {{{{|{|{|}}}|{{|{|{|}}}|{|{|}}}}|{{{|{|{|}}}|{{|{|{|}}}|{|{|}}}}|{{{|{|{|}}}|{{|{|{|}}}|{|{|}}}}|{{{|{|{|}}}|{{|{|{|}}}|{|{|}}}}|{{|{|{|}}}|{|{|}}}}}}}|{{{{|{|{|}}}|{{|{|{|}}}|{|{|}}}}|{{{|{|{|}}}|{{|{|{|}}}|{|{|}}}}|{{{|{|{|}}}|{{|{|{|}}}|{|{|}}}}|{{{|{|{|}}}|{{|{|{|}}}|{|{|}}}}|{{|{|{|}}}|{|{|}}}}}}}|{{{|{|{|}}}|{{|{|{|}}}|{|{|}}}}|{{{|{|{|}}}|{{|{|{|}}}|{|{|}}}}|{{{|{|{|}}}|{{|{|{|}}}|{|{|}}}}|{{|{|{|}}}|{|{|}}}}}}}}\n",
      "found label 45/32 for {{{{{|}|}|{{{|}|}|{{{|}|}|}}}|{{{|}|}|{{{|}|}|}}}|{{{{{|}|}|{{{|}|}|{{{|}|}|}}}|{{{|}|}|{{{|}|}|}}}|{{{|}|}|{{{|}|}|}}}}\n",
      "found label 297/256 for {{{{{|}|}|{{{|}|}|{{{|}|}|{{{|}|}|}}}}|{{{{|}|}|{{{|}|}|{{{|}|}|{{{|}|}|}}}}|{{{|}|}|{{{|}|}|{{{|}|}|}}}}}|{{{{{|}|}|{{{|}|}|{{{|}|}|{{{|}|}|}}}}|{{{{|}|}|{{{|}|}|{{{|}|}|{{{|}|}|}}}}|{{{|}|}|{{{|}|}|{{{|}|}|}}}}}|{{{{{|}|}|{{{|}|}|{{{|}|}|{{{|}|}|}}}}|{{{{|}|}|{{{|}|}|{{{|}|}|{{{|}|}|}}}}|{{{|}|}|{{{|}|}|{{{|}|}|}}}}}|{{{{|}|}|{{{|}|}|{{{|}|}|{{{|}|}|}}}}|{{{|}|}|{{{|}|}|{{{|}|}|}}}}}}}\n",
      "found label 301/512 for {{{{{{|}|{{|}|}}|{{{|}|{{|}|}}|{{{|}|{{|}|}}|{{|}|}}}}|{{{{|}|{{|}|}}|{{{|}|{{|}|}}|{{{|}|{{|}|}}|{{|}|}}}}|{{{|}|{{|}|}}|{{{|}|{{|}|}}|{{|}|}}}}}|{{{{|}|{{|}|}}|{{{|}|{{|}|}}|{{{|}|{{|}|}}|{{|}|}}}}|{{{|}|{{|}|}}|{{{|}|{{|}|}}|{{|}|}}}}}|{{{{{{|}|{{|}|}}|{{{|}|{{|}|}}|{{{|}|{{|}|}}|{{|}|}}}}|{{{{|}|{{|}|}}|{{{|}|{{|}|}}|{{{|}|{{|}|}}|{{|}|}}}}|{{{|}|{{|}|}}|{{{|}|{{|}|}}|{{|}|}}}}}|{{{{|}|{{|}|}}|{{{|}|{{|}|}}|{{{|}|{{|}|}}|{{|}|}}}}|{{{|}|{{|}|}}|{{{|}|{{|}|}}|{{|}|}}}}}|{{{{|}|{{|}|}}|{{{|}|{{|}|}}|{{{|}|{{|}|}}|{{|}|}}}}|{{{|}|{{|}|}}|{{{|}|{{|}|}}|{{|}|}}}}}}\n",
      "found label -159/512 for {{{{{|{|}}|{|}}|{{{|{|}}|{|}}|{|}}}|{{{|{|}}|{|}}|{|}}}|{{{{{|{|}}|{|}}|{{{|{|}}|{|}}|{|}}}|{{{|{|}}|{|}}|{|}}}|{{{{{|{|}}|{|}}|{{{|{|}}|{|}}|{|}}}|{{{|{|}}|{|}}|{|}}}|{{{{{|{|}}|{|}}|{{{|{|}}|{|}}|{|}}}|{{{|{|}}|{|}}|{|}}}|{{{{{|{|}}|{|}}|{{{|{|}}|{|}}|{|}}}|{{{|{|}}|{|}}|{|}}}|{{{|{|}}|{|}}|{|}}}}}}}\n",
      "found label -3/512 for {{{{{{{{{|{|}}|{|}}|{|}}|{|}}|{|}}|{|}}|{|}}|{|}}|{{{{{{{{{|{|}}|{|}}|{|}}|{|}}|{|}}|{|}}|{|}}|{|}}|{|}}}\n",
      "found label -3/2  for {{|{|{|}}}|{|{|}}}\n",
      "found label 155/32 for {{{{{{{{{|}|}|}|}|}|{{{{{{|}|}|}|}|}|}}|{{{{{{|}|}|}|}|}|}}|{{{{{{{{|}|}|}|}|}|{{{{{{|}|}|}|}|}|}}|{{{{{{|}|}|}|}|}|}}|{{{{{{|}|}|}|}|}|}}}|{{{{{{{{|}|}|}|}|}|{{{{{{|}|}|}|}|}|}}|{{{{{{|}|}|}|}|}|}}|{{{{{{|}|}|}|}|}|}}}\n"
     ]
    }
   ],
   "source": [
    "from random import choice\n",
    "s = creation(days=11)\n",
    "for i in range(20):\n",
    "    n = choice(list(s.values()))\n",
    "    print('found label {:^5} for {}'.format(str(n.equivelence_in(s)),n))"
   ]
  },
  {
   "cell_type": "markdown",
   "metadata": {
    "collapsed": true
   },
   "source": [
    "### Conclusions\n",
    "The creation of the surreal numbers can be emulated using python code.\n",
    "\n",
    "This code includes number creation for sets of surreals up to a particular day. \n",
    "\n",
    "Tests results show that comparison and math operations worked as expected from between 5 to 7 days. System limitations for excessive recursion prevented testing larger sets.\n",
    "\n",
    "It is expected that this code would successfully perform these operations on much larger sets if additional memory, speed or time were available.\n",
    "\n",
    "Inversion and Division were not available (by publish date), which is unfortunate because without testing these operations, the set of numbers can not be considered a field."
   ]
  }
 ],
 "metadata": {
  "kernelspec": {
   "display_name": "Python 3",
   "language": "python",
   "name": "python3"
  },
  "language_info": {
   "codemirror_mode": {
    "name": "ipython",
    "version": 3
   },
   "file_extension": ".py",
   "mimetype": "text/x-python",
   "name": "python",
   "nbconvert_exporter": "python",
   "pygments_lexer": "ipython3",
   "version": "3.5.3"
  }
 },
 "nbformat": 4,
 "nbformat_minor": 2
}
